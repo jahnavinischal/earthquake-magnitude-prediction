version https://git-lfs.github.com/spec/v1
oid sha256:fa79cc5aba52313a6dcac00ae116cfe4448dd04f24de50e6d292cea91410da13
size 1597341
